{
 "cells": [
  {
   "cell_type": "code",
   "execution_count": null,
   "metadata": {},
   "outputs": [],
   "source": [
    "import torch\n",
    "import torch.nn.functional as F\n",
    "import cv2\n",
    "import matplotlib.pyplot as plt\n",
    "\n",
    "torch.random.manual_seed(12345)\n",
    "torch.manual_seed(12345)\n",
    "torch.cuda.manual_seed(12345)"
   ]
  },
  {
   "cell_type": "code",
   "execution_count": null,
   "metadata": {},
   "outputs": [],
   "source": [
    "# image = cv2.imread('./image/lena.jpg')\n",
    "image = plt.imread('./image/lena.jpg')\n",
    "input_tensor = torch.tensor(data=image,dtype=torch.float32).cuda()\n",
    "input_tensor = input_tensor.permute(2, 0, 1).unsqueeze(0)\n",
    "arr = [[[-1, 0, 1], [-2, 0, 2], [-1, 0, 1]],\n",
    "[[-1, 0, 1], [-2, 0, 2], [-1, 0, 1]],\n",
    "[[-1, 0, 1], [-2, 0, 2], [-1, 0, 1]]]\n",
    "kernel_tensor = torch.asarray(arr, dtype=torch.float32).unsqueeze(0).cuda()\n",
    "plt.imshow(image)"
   ]
  },
  {
   "cell_type": "code",
   "execution_count": null,
   "metadata": {},
   "outputs": [],
   "source": [
    "# output_tensor = F.conv2d(input=input_tensor, weight=kernel_tensor, bias=None, stride=1, dilation=1, padding=1)\n",
    "output_tensor = torch.cudnn_convolution(input=input_tensor, weight=kernel_tensor, padding=(1,1),stride=(1,1), dilation=(1,1),groups=1, deterministic=True,benchmark=True, allow_tf32=False)\n",
    "output_tensor = output_tensor.squeeze(0).permute(1, 2, 0)"
   ]
  },
  {
   "cell_type": "code",
   "execution_count": null,
   "metadata": {},
   "outputs": [],
   "source": [
    "output_tensor = output_tensor.cpu().numpy()\n",
    "plt.imshow(output_tensor)"
   ]
  },
  {
   "cell_type": "code",
   "execution_count": 31,
   "metadata": {},
   "outputs": [
    {
     "name": "stdout",
     "output_type": "stream",
     "text": [
      "<module 'build.libconv2d' from '/home/penghuiwei/MyWorkspace/ubuntu/CPP/cudaCudnnConv/build/libconv2d.so'>\n",
      "shape:[1,3,32,32 dtype: float32 is_gpu: 1\n",
      "None\n"
     ]
    }
   ],
   "source": [
    "import sys\n",
    "import numpy as np\n",
    "from build import libconv2d as cudnn_conv2d_lib\n",
    "\n",
    "print(cudnn_conv2d_lib)\n",
    "# help(cudnn_conv2d_lib)\n",
    "\n",
    "tensor1 = cudnn_conv2d_lib.Tensor()\n",
    "tensor1.alloc_gpu(1, 3, 32, 32)\n",
    "print(tensor1)\n",
    "\n",
    "arr1 = tensor1.get_array()\n",
    "print(arr1)\n",
    "\n",
    "# help(cudnn_conv2d_lib.Tensor)\n",
    "\n",
    "\n"
   ]
  },
  {
   "cell_type": "markdown",
   "metadata": {},
   "source": []
  }
 ],
 "metadata": {
  "kernelspec": {
   "display_name": "Python 3.8.13 ('base')",
   "language": "python",
   "name": "python3"
  },
  "language_info": {
   "codemirror_mode": {
    "name": "ipython",
    "version": 3
   },
   "file_extension": ".py",
   "mimetype": "text/x-python",
   "name": "python",
   "nbconvert_exporter": "python",
   "pygments_lexer": "ipython3",
   "version": "3.8.13"
  },
  "orig_nbformat": 4,
  "vscode": {
   "interpreter": {
    "hash": "394f7bd40db3faa970ee5df1f8efea1586e2af56ac3f094cf4213a703e7d8f10"
   }
  }
 },
 "nbformat": 4,
 "nbformat_minor": 2
}
